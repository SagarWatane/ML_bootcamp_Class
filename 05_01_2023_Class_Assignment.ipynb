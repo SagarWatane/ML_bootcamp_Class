{
 "cells": [
  {
   "cell_type": "markdown",
   "id": "108784e2",
   "metadata": {},
   "source": [
    "# Write a program to accept five integers from the user , store them in a list . Display these integers and also display their sum"
   ]
  },
  {
   "cell_type": "code",
   "execution_count": 14,
   "id": "94c1333d",
   "metadata": {},
   "outputs": [
    {
     "name": "stdout",
     "output_type": "stream",
     "text": [
      "Please Enter integer only: 10 20 30 40 50\n",
      "Five integer taken is:  [10, 20, 30, 40, 50]\n",
      "Sum of the list is:  150\n"
     ]
    }
   ],
   "source": [
    "sum=0\n",
    "while True:\n",
    "    a,b,c,d,e=input(\"Please Enter integer only: \").split()\n",
    "    list1=[int(a),int(b),int(c),int(d),int(e)]\n",
    "    print(\"Five integer taken is: \",list1)\n",
    "    sum=int(a)+int(b)+int(c)+int(d)+int(e)\n",
    "    print(\"Sum of the list is: \",sum)\n",
    "    break\n",
    "    \n",
    "    \n",
    "    "
   ]
  },
  {
   "cell_type": "markdown",
   "id": "7e15dcd2",
   "metadata": {},
   "source": [
    "# Write a program to accept 5 unique integers from the user. Make sure if the integer being entered is already present in the list your code displays the message “Item already present” and ask the user to reenter the integer. \n"
   ]
  },
  {
   "cell_type": "code",
   "execution_count": 56,
   "id": "12ac8ab9",
   "metadata": {},
   "outputs": [
    {
     "name": "stdout",
     "output_type": "stream",
     "text": [
      "Enter integer: 5\n",
      "Enter integer: 454\n",
      "Enter integer: 454\n",
      "Item Already present, please reenter a unique integer\n",
      "Enter integer: 45\n",
      "Enter integer: 700\n",
      "Enter integer: 1100\n",
      "Your list of unique integer is:  [5, 454, 45, 700, 1100]\n"
     ]
    }
   ],
   "source": [
    "list1=[]\n",
    "while len(list1)<=4:\n",
    "    num=int(input(\"Enter integer: \"))\n",
    "    if num in list1:\n",
    "        print(\"Item Already present, please reenter a unique integer\")\n",
    "    else:\n",
    "        list1.append(num)\n",
    "print(\"Your list of unique integer is: \",list1)"
   ]
  },
  {
   "cell_type": "markdown",
   "id": "a01b3460",
   "metadata": {},
   "source": [
    "# Write a program to accept 2 lists from the user of 5 nos each . Assume each list will have unique nos Now find out how many items in these lists are common .\n"
   ]
  },
  {
   "cell_type": "code",
   "execution_count": 118,
   "id": "01208e89",
   "metadata": {},
   "outputs": [
    {
     "name": "stdout",
     "output_type": "stream",
     "text": [
      "Enter integer for list1: 4\n",
      "Enter integer for list1: 6\n",
      "Enter integer for list1: 6\n",
      "Enter unique integer: \n",
      "Enter integer for list1: 8\n",
      "Enter integer for list1: 8\n",
      "Enter unique integer: \n",
      "Enter integer for list1: 10\n",
      "Enter integer for list1: 12\n",
      "Enter integer for list2: 8\n",
      "Enter integer for list2: 20\n",
      "Enter integer for list2: 20\n",
      "Enter unique integer: \n",
      "Enter integer for list2: 3\n",
      "Enter integer for list2: 3\n",
      "Enter unique integer: \n",
      "Enter integer for list2: 4\n",
      "Enter integer for list2: 5\n",
      "[4, 6, 8, 10, 12]\n",
      "[8, 20, 3, 4, 5]\n",
      "There are 2 items common in both lists\n"
     ]
    }
   ],
   "source": [
    "lst1=[]\n",
    "lst2=[]\n",
    "count=0\n",
    "while len(lst1)<=4:\n",
    "    n1=int(input(\"Enter integer for list1: \"))\n",
    "    if n1 in lst1:\n",
    "        print(\"Enter unique integer: \")\n",
    "    else:\n",
    "        lst1.append(n1)\n",
    "while len(lst2)<=4:\n",
    "    n2=int(input(\"Enter integer for list2: \"))\n",
    "    if n2 in lst2:\n",
    "        print(\"Enter unique integer: \")\n",
    "    else:\n",
    "        lst2.append(n2)\n",
    "            \n",
    "print(lst1[:])\n",
    "print(lst2[:])\n",
    "\n",
    "for i in lst1[:]:\n",
    "    if i in lst2[:]:\n",
    "        count+=1\n",
    "       \n",
    "        \n",
    "\n",
    "print(f\"There are {count} items common in both lists\")\n",
    "\n",
    "        "
   ]
  },
  {
   "cell_type": "markdown",
   "id": "1688962e",
   "metadata": {},
   "source": [
    "# Rewrite the previous code so that your code also displays the items which are common in both the lists\n"
   ]
  },
  {
   "cell_type": "code",
   "execution_count": 119,
   "id": "fa5e67e6",
   "metadata": {},
   "outputs": [
    {
     "name": "stdout",
     "output_type": "stream",
     "text": [
      "Enter integer for list1: 10\n",
      "Enter integer for list1: 20\n",
      "Enter integer for list1: 10\n",
      "Enter unique integer: \n",
      "Enter integer for list1: 30\n",
      "Enter integer for list1: 40\n",
      "Enter integer for list1: 50\n",
      "Enter integer for list2: 60\n",
      "Enter integer for list2: 70\n",
      "Enter integer for list2: 40\n",
      "Enter integer for list2: 80\n",
      "Enter integer for list2: 90\n",
      "[10, 20, 30, 40, 50]\n",
      "[60, 70, 40, 80, 90]\n",
      "Comman integers from both lists is: 40\n",
      "From the two list there are 1 item which is common in them\n"
     ]
    }
   ],
   "source": [
    "lst1=[]\n",
    "lst2=[]\n",
    "count=0\n",
    "while len(lst1)<=4:\n",
    "    n1=int(input(\"Enter integer for list1: \"))\n",
    "    if n1 in lst1:\n",
    "        print(\"Enter unique integer: \")\n",
    "    else:\n",
    "        lst1.append(n1)\n",
    "while len(lst2)<=4:\n",
    "    n2=int(input(\"Enter integer for list2: \"))\n",
    "    if n2 in lst2:\n",
    "        print(\"Enter unique integer: \")\n",
    "    else:\n",
    "        lst2.append(n2)\n",
    "            \n",
    "print(lst1[:])\n",
    "print(lst2[:])\n",
    "\n",
    "for i in lst1[:]:\n",
    "    if i in lst2[:]:\n",
    "        count+=1\n",
    "        print(\"Comman integers from both lists is:\",i)\n",
    "        \n",
    "\n",
    "print(f\"From the two list there are {count} item which is common in them\")\n",
    "\n",
    "        "
   ]
  },
  {
   "cell_type": "code",
   "execution_count": null,
   "id": "df569e02",
   "metadata": {},
   "outputs": [],
   "source": []
  }
 ],
 "metadata": {
  "kernelspec": {
   "display_name": "Python 3 (ipykernel)",
   "language": "python",
   "name": "python3"
  },
  "language_info": {
   "codemirror_mode": {
    "name": "ipython",
    "version": 3
   },
   "file_extension": ".py",
   "mimetype": "text/x-python",
   "name": "python",
   "nbconvert_exporter": "python",
   "pygments_lexer": "ipython3",
   "version": "3.9.13"
  }
 },
 "nbformat": 4,
 "nbformat_minor": 5
}
