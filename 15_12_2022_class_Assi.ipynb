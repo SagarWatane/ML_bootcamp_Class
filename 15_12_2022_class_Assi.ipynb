{
 "cells": [
  {
   "cell_type": "markdown",
   "id": "744ba95b-98c2-4d2f-a65d-0cdb06a37ec4",
   "metadata": {},
   "source": [
    "# WAP to accept an integer from the user and check whether it is an even or odd"
   ]
  },
  {
   "cell_type": "code",
   "execution_count": 11,
   "id": "43855ab7-eb9b-4d7c-a036-03041ea64278",
   "metadata": {},
   "outputs": [
    {
     "name": "stdin",
     "output_type": "stream",
     "text": [
      "Enter a number: 2\n"
     ]
    },
    {
     "name": "stdout",
     "output_type": "stream",
     "text": [
      "It is a even no\n"
     ]
    }
   ],
   "source": [
    "no=int(input(\"Enter a number:\"))\n",
    "if no%2==0:\n",
    "    print(\"It is a even no\")\n",
    "else:\n",
    "    print(\"It is a odd no\")"
   ]
  },
  {
   "cell_type": "markdown",
   "id": "c57eb8e0-6919-4bd2-a6d7-281d56ed73f9",
   "metadata": {},
   "source": [
    "# WAP to accept a character from the user and check whether it is a capital letter or small letter. Assume user will input only alphabets"
   ]
  },
  {
   "cell_type": "code",
   "execution_count": 21,
   "id": "dfc1ca48-7eb4-4c1e-8ddd-54d35a54a9e6",
   "metadata": {},
   "outputs": [
    {
     "name": "stdin",
     "output_type": "stream",
     "text": [
      "Enter a character  SSS\n"
     ]
    },
    {
     "name": "stdout",
     "output_type": "stream",
     "text": [
      "char is in Capital Letter\n"
     ]
    }
   ],
   "source": [
    "char=str(input(\"Enter a character \"))\n",
    "if char[0]==char[0].upper():\n",
    "    print(\"char is in Capital Letter\")\n",
    "else:\n",
    "    print(\"char is in Small Letter\")\n",
    "    "
   ]
  },
  {
   "cell_type": "markdown",
   "id": "240449c6-62e8-4287-901c-e95675bfd00e",
   "metadata": {},
   "source": [
    "# WAP to accept a character from the user and check whether it is a capital letter or small letter or a digit or some special symbol"
   ]
  },
  {
   "cell_type": "code",
   "execution_count": 55,
   "id": "8da5d72f-5640-4560-b303-381c115ede00",
   "metadata": {},
   "outputs": [
    {
     "name": "stdin",
     "output_type": "stream",
     "text": [
      "Enter a character  .\n"
     ]
    },
    {
     "name": "stdout",
     "output_type": "stream",
     "text": [
      "character enter is Special symbol\n"
     ]
    }
   ],
   "source": [
    "char=input(\"Enter a character \")\n",
    "if char.isupper():\n",
    "    print(\"character is in Capital Letter\")\n",
    "elif char.isdigit():\n",
    "    print(\"character enter is digit\")\n",
    "elif char.islower():\n",
    "    print(\"chararcter enter is in Small Letter\")\n",
    "else:\n",
    "    print(\"character enter is Special symbol\")\n",
    "    "
   ]
  },
  {
   "cell_type": "markdown",
   "id": "d2960245-0f74-43e6-a867-e17abe24c841",
   "metadata": {},
   "source": [
    "# WAP to accept 3 integers from the user and without using any logical operator and cascading of relational operators , find out the greatest number amongst them"
   ]
  },
  {
   "cell_type": "code",
   "execution_count": 58,
   "id": "3bc1ca5b-c99f-47db-9ab2-0dd70f88c8b0",
   "metadata": {},
   "outputs": [
    {
     "name": "stdin",
     "output_type": "stream",
     "text": [
      "Enter a number1: 100\n",
      "Enter a number1: 200\n",
      "Enter a number1: 50\n"
     ]
    },
    {
     "name": "stdout",
     "output_type": "stream",
     "text": [
      "n2 is greatest\n"
     ]
    }
   ],
   "source": [
    "n1=int(input(\"Enter a number1:\"))\n",
    "n2=int(input(\"Enter a number1:\"))\n",
    "n3=int(input(\"Enter a number1:\"))\n",
    "if n1>n2:\n",
    "    if n1>n3:\n",
    "        print(\"n1 is greatest\")\n",
    "elif n2>n1:\n",
    "    if n2>n3:\n",
    "        print(\"n2 is greatest\")\n",
    "    else:\n",
    "        print(\"n3 is greatest\")"
   ]
  },
  {
   "cell_type": "markdown",
   "id": "d87c0b5a-9b33-4071-bd4b-fd2ea9ff5630",
   "metadata": {},
   "source": [
    "# WAP to accept a year from the user and check whether it is a leap year or not.\n",
    "\n"
   ]
  },
  {
   "cell_type": "raw",
   "id": "41052f14-a2b8-495d-b4cd-74e75d298b70",
   "metadata": {},
   "source": [
    "# An year is a leap year if:\n",
    "# It is exactly divisible by 4 and at the same time not\n",
    "# divisible by 100\n",
    "# OR\n",
    "# It is divisible by 400\n",
    "# For example:\n",
    "# 2017 is not a leap year\n",
    "# 2012 is a leap year\n",
    "# 1900 is a not leap year\n",
    "# 2000 is a leap year"
   ]
  },
  {
   "cell_type": "code",
   "execution_count": 72,
   "id": "4269218c-76bb-4245-94ab-7543e3bcb8ca",
   "metadata": {},
   "outputs": [
    {
     "name": "stdin",
     "output_type": "stream",
     "text": [
      "Enter a year : 1900\n"
     ]
    },
    {
     "name": "stdout",
     "output_type": "stream",
     "text": [
      "Not a leap year\n"
     ]
    }
   ],
   "source": [
    "year=int(input(\"Enter a year :\"))\n",
    "if year%4==0 and year%100!=0:\n",
    "    print(\"An year entered is a leap year\")\n",
    "elif year%400==0:\n",
    "    print(\"An year entered is a leap year\")\n",
    "else:\n",
    "    print(\"Not a leap year\")"
   ]
  },
  {
   "cell_type": "markdown",
   "id": "1eb77eca-34aa-40b7-a6c7-df533236292f",
   "metadata": {},
   "source": [
    "# You have to develop a number guessing game"
   ]
  },
  {
   "cell_type": "code",
   "execution_count": 93,
   "id": "b7d47ccb-e162-4c2f-a955-1b6cdd40ff28",
   "metadata": {},
   "outputs": [
    {
     "name": "stdout",
     "output_type": "stream",
     "text": [
      "28\n",
      "Hello Guest Please guess the number which is generated secretly:)\n"
     ]
    },
    {
     "name": "stdin",
     "output_type": "stream",
     "text": [
      "Please Entered your guessing number Here :  28\n"
     ]
    },
    {
     "name": "stdout",
     "output_type": "stream",
     "text": [
      "Congratulations! You guessed it right\n"
     ]
    }
   ],
   "source": [
    "import random\n",
    "no=random.randint(2,100)\n",
    "print(no)\n",
    "print(\"Hello Guest Please guess the number which is generated secretly:)\")\n",
    "\n",
    "while guess_no!=no:\n",
    "    guess_no=int(input(\"Please Entered your guessing number Here : \"))\n",
    "    if guess_no==no:\n",
    "        print(\"Congratulations! You guessed it right\")\n",
    "        break\n",
    "    elif guess_no > no :\n",
    "        print(\"Number too large\")\n",
    "    \n",
    "    elif guess_no > 0 and guess_no < no:\n",
    "        print(\"Number too small\")\n",
    "    elif guess_no<=0 :\n",
    "        print(\"You Quit the game!!\")\n",
    "        break\n",
    "        \n",
    "        \n"
   ]
  },
  {
   "cell_type": "markdown",
   "id": "c91e9b9b-fa09-443f-ad32-521a862a7188",
   "metadata": {},
   "source": [
    "# Write a program to accept a string from the user and display it vertically but don’t display the vowels in it."
   ]
  },
  {
   "cell_type": "code",
   "execution_count": 95,
   "id": "7301f8c9-046c-45ae-a75f-3003f0dc665f",
   "metadata": {},
   "outputs": [
    {
     "name": "stdin",
     "output_type": "stream",
     "text": [
      "Enter a string :  HII HELLOO kese ho bhai\n"
     ]
    },
    {
     "name": "stdout",
     "output_type": "stream",
     "text": [
      "H\n",
      " \n",
      "H\n",
      "L\n",
      "L\n",
      " \n",
      "k\n",
      "s\n",
      " \n",
      "h\n",
      " \n",
      "b\n",
      "h\n"
     ]
    }
   ],
   "source": [
    "name=str(input(\"Enter a string : \"))\n",
    "i=0\n",
    "while i<len(name):\n",
    "    if name[i] not in [\"a\",\"e\",\"i\",\"o\",\"u\",\"A\",\"E\",\"I\",\"O\",\"U\"]:\n",
    "        print(name[i])\n",
    "    i=i+1"
   ]
  },
  {
   "cell_type": "markdown",
   "id": "79fd3c1a-8bd1-4845-8549-b8866cf36675",
   "metadata": {},
   "source": [
    "# Write a program to continuously accept integers from the user until the user types 0 and as soon as 0 is entered display sum of all the nos entered before 0"
   ]
  },
  {
   "cell_type": "code",
   "execution_count": 16,
   "id": "87bc9389-91f5-4376-9a7b-9df03748dcc7",
   "metadata": {},
   "outputs": [
    {
     "name": "stdin",
     "output_type": "stream",
     "text": [
      "Please Enter integers only : 4\n",
      "Please Enter integers only : 6\n",
      "Please Enter integers only : 20\n",
      "Please Enter integers only : 20\n",
      "Please Enter integers only : -20\n",
      "Please Enter integers only : -60\n",
      "Please Enter integers only : 1\n",
      "Please Enter integers only : -1\n",
      "Please Enter integers only : 0\n"
     ]
    },
    {
     "name": "stdout",
     "output_type": "stream",
     "text": [
      "All the numbers you entered before entering 0 there sum is as follows : 51\n"
     ]
    }
   ],
   "source": [
    "sum_no=0\n",
    "while True:\n",
    "    no=int(input(\"Please Enter an integers only :\"))\n",
    "    if no>0:\n",
    "        sum_no= sum_no+no\n",
    "    elif no<0:\n",
    "        pass\n",
    "    else:\n",
    "        print('All the numbers you entered before entering 0 there sum is as follows :',sum_no)\n",
    "        break"
   ]
  },
  {
   "cell_type": "markdown",
   "id": "43e8a83d-8f1b-41b2-ae22-37ce86357201",
   "metadata": {},
   "source": [
    "# Write a program using a for loop to accept a string from the user and display it vertically but don’t display the vowels in it."
   ]
  },
  {
   "cell_type": "code",
   "execution_count": 18,
   "id": "f9e43d94-4b20-4c2e-bd3f-46371a04bde8",
   "metadata": {},
   "outputs": [
    {
     "name": "stdin",
     "output_type": "stream",
     "text": [
      "Enter a string only : HOW ARE YOU doing everything ok\n"
     ]
    },
    {
     "name": "stdout",
     "output_type": "stream",
     "text": [
      "H\n",
      "W\n",
      " \n",
      "R\n",
      " \n",
      "Y\n",
      " \n",
      "d\n",
      "n\n",
      "g\n",
      " \n",
      "v\n",
      "r\n",
      "y\n",
      "t\n",
      "h\n",
      "n\n",
      "g\n",
      " \n",
      "k\n"
     ]
    }
   ],
   "source": [
    "string=str(input(\"Enter a string only :\"))\n",
    "vowels=(\"a\",\"e\",\"i\",\"o\",\"u\",\"A\",\"E\",\"I\",\"O\",\"U\")\n",
    "for i in string:\n",
    "    if i not in vowels:\n",
    "        print(i)"
   ]
  },
  {
   "cell_type": "markdown",
   "id": "e32042ea-392e-40d3-90ed-2709622d9b1c",
   "metadata": {},
   "source": [
    "# Write a program to accept an integer from the user and display the sum of all the numbers from 1 to that number"
   ]
  },
  {
   "cell_type": "code",
   "execution_count": 40,
   "id": "d5f52b28-0520-4c18-ad5a-3c0604ac3d81",
   "metadata": {},
   "outputs": [
    {
     "name": "stdin",
     "output_type": "stream",
     "text": [
      "Enter a integer: 5\n"
     ]
    },
    {
     "name": "stdout",
     "output_type": "stream",
     "text": [
      "sum of all the numbers from 1 to 5 is 15\n"
     ]
    }
   ],
   "source": [
    "no=int(input(\"Enter an integer:\"))\n",
    "sum_no=1\n",
    "i=2\n",
    "while i<=no:\n",
    "    sum_no = sum_no + i\n",
    "    i=i+1\n",
    "print(f\"sum of all the numbers from 1 to {no} is {sum_no}\")"
   ]
  },
  {
   "cell_type": "markdown",
   "id": "c2e0fa69-62e0-49e8-8c4a-39f535dab463",
   "metadata": {},
   "source": [
    "# Write a program to accept an integer from the user and calculate its factorial"
   ]
  },
  {
   "cell_type": "code",
   "execution_count": 63,
   "id": "d253030a-c96f-4be9-8ade-b550d86c55f3",
   "metadata": {},
   "outputs": [
    {
     "name": "stdin",
     "output_type": "stream",
     "text": [
      "Enter a number:  6\n"
     ]
    },
    {
     "name": "stdout",
     "output_type": "stream",
     "text": [
      "The factorial of 6 is 720\n"
     ]
    }
   ],
   "source": [
    "num = int(input(\"Enter a number: \"))\n",
    "factorial = 1\n",
    "if num < 0:\n",
    "    print(\"Sorry, factorial does not exist for negative numbers\")\n",
    "elif num == 0:\n",
    "    print(\"The factorial of 0 is 1\")\n",
    "else:\n",
    "    for i in range(1,num + 1):\n",
    "        factorial = factorial*i\n",
    "    print(\"The factorial of\",num,\"is\",factorial)"
   ]
  },
  {
   "cell_type": "markdown",
   "id": "747e307d-9777-4e85-9bfb-37b112c30fe6",
   "metadata": {},
   "source": [
    "# Write a program to print the following pattern"
   ]
  },
  {
   "cell_type": "code",
   "execution_count": 93,
   "id": "3f55d1e1-20c4-428b-a5d1-d5bb21d42b0f",
   "metadata": {},
   "outputs": [
    {
     "name": "stdout",
     "output_type": "stream",
     "text": [
      "***\n",
      "***\n",
      "***\n",
      "***\n"
     ]
    }
   ],
   "source": [
    "no=4\n",
    "for i in range(no):\n",
    "    for j in range(no-1):\n",
    "        print(\"*\",end=\"\")\n",
    "    print()"
   ]
  },
  {
   "cell_type": "markdown",
   "id": "3f9ba3bb-3032-4ae3-8e63-82c59014e15a",
   "metadata": {},
   "source": [
    "# Write a program to print the following pattern"
   ]
  },
  {
   "cell_type": "code",
   "execution_count": 99,
   "id": "aa7f0f22-794e-4ace-b335-5369d2f1e4b9",
   "metadata": {},
   "outputs": [
    {
     "name": "stdout",
     "output_type": "stream",
     "text": [
      "\n",
      "*\n",
      "**\n",
      "***\n",
      "****\n"
     ]
    }
   ],
   "source": [
    "n=4\n",
    "for i in range(n+1):\n",
    "    for j in range(i):\n",
    "        print(\"*\",end=\"\")\n",
    "    print()"
   ]
  },
  {
   "cell_type": "markdown",
   "id": "dec14ea2-abf0-4282-ad80-829969c2e906",
   "metadata": {},
   "source": [
    "# Write a program to print the following pattern "
   ]
  },
  {
   "cell_type": "code",
   "execution_count": 100,
   "id": "f9e78423-1dc8-42dc-88c6-68571c2ff631",
   "metadata": {},
   "outputs": [
    {
     "name": "stdout",
     "output_type": "stream",
     "text": [
      "****\n",
      "***\n",
      "**\n",
      "*\n",
      "\n"
     ]
    }
   ],
   "source": [
    "n=4\n",
    "for i in range(n+1):\n",
    "    for j in range(n-i):\n",
    "        print(\"*\",end=\"\")\n",
    "    print()"
   ]
  },
  {
   "cell_type": "markdown",
   "id": "042521c9-4349-4143-9dee-04c5da88a178",
   "metadata": {},
   "source": [
    "# Write a program to accept an integer from the user and display all the numbers from 1 to that number. Repeat the process until the user enters 0."
   ]
  },
  {
   "cell_type": "code",
   "execution_count": 123,
   "id": "1f778d13-967c-4c07-9b3d-334282bd52e4",
   "metadata": {},
   "outputs": [
    {
     "name": "stdin",
     "output_type": "stream",
     "text": [
      "Please enter an integer (0 to exit):  15\n"
     ]
    },
    {
     "name": "stdout",
     "output_type": "stream",
     "text": [
      "1 2 3 4 5 6 7 8 9 10 11 12 13 14 15 \n"
     ]
    },
    {
     "name": "stdin",
     "output_type": "stream",
     "text": [
      "Please enter an integer (0 to exit):  1\n"
     ]
    },
    {
     "name": "stdout",
     "output_type": "stream",
     "text": [
      "1 \n"
     ]
    },
    {
     "name": "stdin",
     "output_type": "stream",
     "text": [
      "Please enter an integer (0 to exit):  5\n"
     ]
    },
    {
     "name": "stdout",
     "output_type": "stream",
     "text": [
      "1 2 3 4 5 \n"
     ]
    },
    {
     "name": "stdin",
     "output_type": "stream",
     "text": [
      "Please enter an integer (0 to exit):  0\n"
     ]
    }
   ],
   "source": [
    "while True:\n",
    "    num = int(input(\"Please enter an integer (0 to exit): \"))\n",
    "    if num == 0:\n",
    "        break\n",
    "    for i in range(1, num + 1):\n",
    "        print(i, end=\" \")\n",
    "    print()"
   ]
  },
  {
   "cell_type": "code",
   "execution_count": null,
   "id": "cf3ab116-0636-478d-8529-cba0e1bbb611",
   "metadata": {},
   "outputs": [],
   "source": []
  }
 ],
 "metadata": {
  "kernelspec": {
   "display_name": "Python 3 (ipykernel)",
   "language": "python",
   "name": "python3"
  },
  "language_info": {
   "codemirror_mode": {
    "name": "ipython",
    "version": 3
   },
   "file_extension": ".py",
   "mimetype": "text/x-python",
   "name": "python",
   "nbconvert_exporter": "python",
   "pygments_lexer": "ipython3",
   "version": "3.10.6"
  }
 },
 "nbformat": 4,
 "nbformat_minor": 5
}
