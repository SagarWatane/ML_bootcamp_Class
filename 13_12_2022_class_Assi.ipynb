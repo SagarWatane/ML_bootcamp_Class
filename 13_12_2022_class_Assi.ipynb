{
 "cells": [
  {
   "cell_type": "markdown",
   "id": "5547b95d-043b-4845-963e-f4cdf9d7ca47",
   "metadata": {},
   "source": [
    "●\tWAP to accept two numbers from the user and display their sum"
   ]
  },
  {
   "cell_type": "code",
   "execution_count": 1,
   "id": "6294cafd-1db8-4530-a334-8843a574781e",
   "metadata": {},
   "outputs": [
    {
     "name": "stdin",
     "output_type": "stream",
     "text": [
      "Enter a number1: 20\n",
      "Enter a number2: 30\n"
     ]
    },
    {
     "name": "stdout",
     "output_type": "stream",
     "text": [
      "Sum of two number is :  50\n"
     ]
    }
   ],
   "source": [
    "n1=int(input(\"Enter a number1:\"))\n",
    "n2=int(input(\"Enter a number2:\"))\n",
    "sum_of_numbers=n1+n2\n",
    "print(\"Sum of two number is : \",sum_of_numbers)"
   ]
  },
  {
   "cell_type": "markdown",
   "id": "2bd0ca08-ac10-4316-923f-4860ee2d4725",
   "metadata": {},
   "source": [
    "●\tWAP to accept radius of a Circle from the user and calculate area and circumference"
   ]
  },
  {
   "cell_type": "code",
   "execution_count": 6,
   "id": "d2e23954-a38b-4a84-9ad6-719dd1b987ac",
   "metadata": {},
   "outputs": [
    {
     "name": "stdin",
     "output_type": "stream",
     "text": [
      "Enter a radius of circle :  14\n"
     ]
    },
    {
     "name": "stdout",
     "output_type": "stream",
     "text": [
      "Radius given is 14 cm\n",
      "Area of circle is 615.44 sq.cm whose radius is 14 cm\n",
      "Circumference of circle is 87.92 cm whose radius is 14 cm\n"
     ]
    }
   ],
   "source": [
    "radius=int(input(\"Enter a radius of circle : \"))\n",
    "print(f'Radius given is {radius} cm')\n",
    "Area=3.14*radius**2 # formula - 3.14*r**2\n",
    "Circumference=2*3.14*radius # formula - 2*3.14*r\n",
    "print(f'Area of circle is {Area} sq.cm whose radius is {radius} cm')\n",
    "print(f'Circumference of circle is {Circumference} cm whose radius is {radius} cm')"
   ]
  },
  {
   "cell_type": "markdown",
   "id": "0d2af0e7-71ca-4494-b9a8-063e5c0f3137",
   "metadata": {},
   "source": [
    "●\tWAP to accept roll number , grade and percentage as input from the user and display it back"
   ]
  },
  {
   "cell_type": "code",
   "execution_count": 16,
   "id": "6003e32c-c1e4-4857-9341-90bcaac9144a",
   "metadata": {},
   "outputs": [
    {
     "name": "stdin",
     "output_type": "stream",
     "text": [
      "Enter your roll number: 4\n",
      "Enter your grade: A\n",
      "Enter your percentage: 52\n"
     ]
    },
    {
     "name": "stdout",
     "output_type": "stream",
     "text": [
      "Your roll number is 4\n",
      "Your in grade A\n",
      "Your percentage is 52.0%\n"
     ]
    }
   ],
   "source": [
    "roll_no=int(input(\"Enter your roll number:\"))\n",
    "grade=input(\"Enter your grade:\")\n",
    "percentage=float(input(\"Enter your percentage:\"))\n",
    "print(f'Your roll number is {roll_no}\\nYour in grade {grade}\\nYour percentage is {percentage}%')"
   ]
  },
  {
   "cell_type": "markdown",
   "id": "e93f02a7-52b0-4327-8a74-e2196002d15d",
   "metadata": {},
   "source": [
    "●\tWrite a program that asks the user to enter his/her name and age. Print out a message , displaying the user’s name along with the year in which they will turn 100 years old.\n"
   ]
  },
  {
   "cell_type": "code",
   "execution_count": 17,
   "id": "c175eb7b-7f6e-4ccc-8aaf-cb00b27cdbdd",
   "metadata": {},
   "outputs": [
    {
     "name": "stdin",
     "output_type": "stream",
     "text": [
      "Enter your name: sagar\n",
      "Enter your age: 25\n"
     ]
    },
    {
     "name": "stdout",
     "output_type": "stream",
     "text": [
      "Hello!! sagar, in 2097 you'll turn 100 years old\n"
     ]
    }
   ],
   "source": [
    "name=input(\"Enter your name:\")\n",
    "age=int(input(\"Enter your age:\"))\n",
    "year=(2022-age)+100\n",
    "print(f\"Hello!! {name}, in {year} you'll turn 100 years old\")"
   ]
  },
  {
   "cell_type": "markdown",
   "id": "d9dfbaad-2abb-40b0-8164-eab533e35a9d",
   "metadata": {},
   "source": [
    "●\tWrite a program that asks the user to input 2 integers and adds them . Accept both the numbers in a single line only"
   ]
  },
  {
   "cell_type": "code",
   "execution_count": 25,
   "id": "32542790-a756-4acf-8575-605ab6568589",
   "metadata": {},
   "outputs": [
    {
     "name": "stdin",
     "output_type": "stream",
     "text": [
      "Enter two numbers separated by space:  4 8\n"
     ]
    },
    {
     "name": "stdout",
     "output_type": "stream",
     "text": [
      "Sum of the two numbers: 12\n"
     ]
    }
   ],
   "source": [
    "a,b = input(\"Enter two numbers separated by space: \").split()\n",
    "sum = int(a) + int(b)\n",
    "print(\"Sum of the two numbers:\",sum)"
   ]
  },
  {
   "cell_type": "markdown",
   "id": "763b9b4b-71b4-4fb6-bf78-b89addf8f7d1",
   "metadata": {},
   "source": [
    "●\tWrite a Python program which accepts the user's first and last name and print them in reverse order with a space between them."
   ]
  },
  {
   "cell_type": "code",
   "execution_count": 35,
   "id": "409189ff-ea0c-4e7c-b884-52d321ebc21b",
   "metadata": {},
   "outputs": [
    {
     "name": "stdin",
     "output_type": "stream",
     "text": [
      "Enter your name: Sagar\n",
      "Enter your last name: Watane\n"
     ]
    },
    {
     "name": "stdout",
     "output_type": "stream",
     "text": [
      "Sagar Watane \n",
      " enataW ragaS\n"
     ]
    }
   ],
   "source": [
    "first_name=input(\"Enter your name:\")\n",
    "last_name=input(\"Enter your last name:\")\n",
    "rev_name=first_name+\" \"+last_name\n",
    "print(first_name,last_name,'\\n',rev_name[-1::-1])"
   ]
  },
  {
   "cell_type": "code",
   "execution_count": null,
   "id": "5bfe3005-c2b5-4c1a-9a8d-0bc8f6232395",
   "metadata": {},
   "outputs": [],
   "source": []
  }
 ],
 "metadata": {
  "kernelspec": {
   "display_name": "Python 3 (ipykernel)",
   "language": "python",
   "name": "python3"
  },
  "language_info": {
   "codemirror_mode": {
    "name": "ipython",
    "version": 3
   },
   "file_extension": ".py",
   "mimetype": "text/x-python",
   "name": "python",
   "nbconvert_exporter": "python",
   "pygments_lexer": "ipython3",
   "version": "3.10.6"
  }
 },
 "nbformat": 4,
 "nbformat_minor": 5
}
